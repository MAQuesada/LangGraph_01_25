{
 "cells": [
  {
   "cell_type": "markdown",
   "metadata": {},
   "source": [
    "# Create a own graph with retrieve as tool.\n",
    "* we will use Langfuse for monitoring\n",
    "\n",
    "* we will use memory implementation of checkpoints to keep the message history \n",
    "* we use a first LLM(gpt-4o-mini) to decide if use or not the tool\n",
    "* we use a second LLM(gemma2:latest) to create the response after the retrieve step\n",
    "* we keep all the messages, including a SystemMessage, at the beginning\n",
    "* we pass through the LLMs just the last messages, including the SystemMessage, using a trimmer"
   ]
  },
  {
   "cell_type": "markdown",
   "metadata": {},
   "source": [
    "## Set up"
   ]
  },
  {
   "cell_type": "code",
   "execution_count": 173,
   "metadata": {},
   "outputs": [],
   "source": [
    "from dotenv import load_dotenv, find_dotenv\n",
    "import os\n",
    "import warnings\n",
    "from IPython.display import display, Markdown  # to see better the output text\n",
    "\n",
    "warnings.filterwarnings(\"ignore\")\n",
    "_ = load_dotenv(find_dotenv())  # read local .env file\n",
    "\n",
    "os.environ[\"LANGCHAIN_TRACING_V2\"] = \"true\"\n"
   ]
  },
  {
   "cell_type": "code",
   "execution_count": 174,
   "metadata": {},
   "outputs": [],
   "source": [
    "# ! pip install langchain_openai\n",
    "# ! pip install langchain_ollama\n",
    "from langchain_ollama.chat_models import ChatOllama\n",
    "from langchain_openai import ChatOpenAI\n",
    "\n",
    "gpt_llm = ChatOpenAI(model=\"gpt-4o-mini\", temperature=0.1)\n",
    "\n",
    "gemma_llm = ChatOllama(\n",
    "    model=\"gemma2:latest\",\n",
    "    temperature=0.1,\n",
    ")"
   ]
  },
  {
   "cell_type": "code",
   "execution_count": 175,
   "metadata": {},
   "outputs": [],
   "source": [
    "SYSTEM_MESSAGE = \"You are a helpful assistant. Answer the questions using the information retrieved\"\n",
    "NUM_RETRIEVAL_CHUNKS = 3\n",
    "NUM_HISTORY_MESSAGES = 6"
   ]
  },
  {
   "cell_type": "markdown",
   "metadata": {},
   "source": [
    "## Store the documents to simulate the Vector DB"
   ]
  },
  {
   "cell_type": "code",
   "execution_count": 176,
   "metadata": {},
   "outputs": [],
   "source": [
    "from langchain_ollama import OllamaEmbeddings\n",
    "from typing_extensions import List, TypedDict\n",
    "from langchain_text_splitters import RecursiveCharacterTextSplitter\n",
    "from langchain_core.documents import Document\n",
    "from langchain_community.document_loaders import WebBaseLoader\n",
    "from langchain import hub\n",
    "import bs4\n",
    "from langchain_core.vectorstores import InMemoryVectorStore\n",
    "\n",
    "embeddings = OllamaEmbeddings(model=\"mxbai-embed-large\")\n",
    "vector_store = InMemoryVectorStore(embeddings)\n",
    "\n",
    "# Load and chunk contents of the blog\n",
    "loader = WebBaseLoader(\n",
    "    web_paths=(\"https://lilianweng.github.io/posts/2023-06-23-agent/\",),\n",
    "    bs_kwargs=dict(\n",
    "        parse_only=bs4.SoupStrainer(\n",
    "            class_=(\"post-content\", \"post-title\", \"post-header\")\n",
    "        )\n",
    "    ),\n",
    ")\n",
    "docs = loader.load()\n",
    "\n",
    "text_splitter = RecursiveCharacterTextSplitter(\n",
    "    chunk_size=1000, chunk_overlap=200)\n",
    "all_splits = text_splitter.split_documents(docs)\n",
    "\n",
    "# Index chunks\n",
    "_ = vector_store.add_documents(documents=all_splits)"
   ]
  },
  {
   "cell_type": "markdown",
   "metadata": {},
   "source": [
    "## Build the retrieve process as a tool"
   ]
  },
  {
   "cell_type": "code",
   "execution_count": 177,
   "metadata": {},
   "outputs": [],
   "source": [
    "from langchain_core.tools import StructuredTool\n",
    "from langchain_core.tools import tool\n",
    "from pydantic import BaseModel, Field\n",
    "\n",
    "\n",
    "# @tool(response_format=\"content_and_artifact\")\n",
    "\n",
    "\n",
    "class RetieveSchema(BaseModel):\n",
    "    query: str = Field(description=\"query to execute\")\n",
    "\n",
    "\n",
    "def retrieve(query: str):\n",
    "    \"\"\"Retrieve information related to a query.\"\"\"\n",
    "    retrieved_docs = vector_store.similarity_search(\n",
    "        query, k=NUM_RETRIEVAL_CHUNKS)\n",
    "    content = \"\\n\\n\".join(\n",
    "        # it's important to keep the metadata to know the source of the retrieved content\n",
    "        (f\"Source: {doc.metadata}\\n\" f\"Content: {doc.page_content}\")\n",
    "        for doc in retrieved_docs\n",
    "    )\n",
    "    return content\n",
    "\n",
    "\n",
    "retrieve_tool = StructuredTool(description=\"Retrieve information related to a query.\",\n",
    "                               name=\"retrieve_tool\", func=retrieve, args_schema=RetieveSchema)"
   ]
  },
  {
   "cell_type": "code",
   "execution_count": 178,
   "metadata": {},
   "outputs": [
    {
     "data": {
      "text/markdown": [
       "Source: {'source': 'https://lilianweng.github.io/posts/2023-06-23-agent/'}\n",
       "Content: Fig. 1. Overview of a LLM-powered autonomous agent system.\n",
       "Component One: Planning#\n",
       "A complicated task usually involves many steps. An agent needs to know what they are and plan ahead.\n",
       "Task Decomposition#\n",
       "Chain of thought (CoT; Wei et al. 2022) has become a standard prompting technique for enhancing model performance on complex tasks. The model is instructed to “think step by step” to utilize more test-time computation to decompose hard tasks into smaller and simpler steps. CoT transforms big tasks into multiple manageable tasks and shed lights into an interpretation of the model’s thinking process.\n",
       "\n",
       "Source: {'source': 'https://lilianweng.github.io/posts/2023-06-23-agent/'}\n",
       "Content: Tree of Thoughts (Yao et al. 2023) extends CoT by exploring multiple reasoning possibilities at each step. It first decomposes the problem into multiple thought steps and generates multiple thoughts per step, creating a tree structure. The search process can be BFS (breadth-first search) or DFS (depth-first search) with each state evaluated by a classifier (via a prompt) or majority vote.\n",
       "Task decomposition can be done (1) by LLM with simple prompting like \"Steps for XYZ.\\n1.\", \"What are the subgoals for achieving XYZ?\", (2) by using task-specific instructions; e.g. \"Write a story outline.\" for writing a novel, or (3) with human inputs.\n",
       "\n",
       "Source: {'source': 'https://lilianweng.github.io/posts/2023-06-23-agent/'}\n",
       "Content: Fig. 11. Illustration of how HuggingGPT works. (Image source: Shen et al. 2023)\n",
       "The system comprises of 4 stages:\n",
       "(1) Task planning: LLM works as the brain and parses the user requests into multiple tasks. There are four attributes associated with each task: task type, ID, dependencies, and arguments. They use few-shot examples to guide LLM to do task parsing and planning.\n",
       "Instruction:"
      ],
      "text/plain": [
       "<IPython.core.display.Markdown object>"
      ]
     },
     "execution_count": 178,
     "metadata": {},
     "output_type": "execute_result"
    }
   ],
   "source": [
    "Markdown(retrieve_tool.invoke(\"what is the Task Decomposition?\"))"
   ]
  },
  {
   "cell_type": "markdown",
   "metadata": {},
   "source": [
    "## Create the graph"
   ]
  },
  {
   "cell_type": "code",
   "execution_count": 179,
   "metadata": {},
   "outputs": [],
   "source": [
    "from typing import Annotated\n",
    "from langgraph.graph import MessagesState, StateGraph\n",
    "from langgraph.graph.message import add_messages\n",
    "\n",
    "\n",
    "class State(TypedDict): # it's the same to use `MessagesState` \n",
    "    \"\"\"Define the state schema for the workflow in the graph.\"\"\"\n",
    "    messages: Annotated[list, add_messages]\n",
    "\n",
    "graph_builder = StateGraph(State)"
   ]
  },
  {
   "cell_type": "code",
   "execution_count": 180,
   "metadata": {},
   "outputs": [
    {
     "data": {
      "image/png": "[encoded data removed]",
      "text/plain": [
       "<IPython.core.display.Image object>"
      ]
     },
     "execution_count": 180,
     "metadata": {},
     "output_type": "execute_result"
    }
   ],
   "source": [
    "from IPython.display import Image\n",
    "from langgraph.checkpoint.memory import MemorySaver\n",
    "from typing import Annotated\n",
    "\n",
    "from langchain_community.tools.tavily_search import TavilySearchResults\n",
    "from langchain_core.messages import BaseMessage\n",
    "from typing_extensions import TypedDict\n",
    "\n",
    "from langgraph.graph import StateGraph, START, END\n",
    "from langgraph.prebuilt import ToolNode, tools_condition\n",
    "from langchain_core.messages import SystemMessage, trim_messages\n",
    "\n",
    "\n",
    "tools = [retrieve_tool]\n",
    "llm_with_tools = gpt_llm.bind_tools(tools)\n",
    "\n",
    "trimmer = trim_messages(\n",
    "    max_tokens=NUM_HISTORY_MESSAGES,  # in this case we want to keep the last 5 messages\n",
    "    strategy=\"last\",\n",
    "    token_counter=len,\n",
    "    include_system=True,\n",
    "    start_on=\"human\",\n",
    "    end_on=(\"human\", \"tool\"),\n",
    ")\n",
    "\n",
    "\n",
    "def llm_with_tools(state: State):\n",
    "    if state[\"messages\"][0].type != \"system\":\n",
    "        state[\"messages\"].insert(0, SystemMessage(content=SYSTEM_MESSAGE))\n",
    "\n",
    "    trimmed_messages = trimmer.invoke(state[\"messages\"])\n",
    "\n",
    "    return {\"messages\": [llm_with_tools.invoke(trimmed_messages)]}\n",
    "\n",
    "def llm_without_tools(state: State):\n",
    "    \n",
    "    trimmed_messages = trimmer.invoke(state[\"messages\"])\n",
    "\n",
    "    return {\"messages\": [gemma_llm.invoke(trimmed_messages)]}\n",
    "\n",
    "\n",
    "\n",
    "graph_builder.add_node(\"llm_with_tools\", llm_with_tools)\n",
    "graph_builder.add_node(\"llm_without_tools\", llm_without_tools)\n",
    "\n",
    "tool_node = ToolNode(tools=tools)\n",
    "graph_builder.add_node(\"tools\", tool_node)\n",
    "\n",
    "graph_builder.add_conditional_edges(\n",
    "    \"llm_with_tools\",\n",
    "    tools_condition,\n",
    ")\n",
    "# Any time a tool is called, we return to the chatbot to decide the next step\n",
    "graph_builder.add_edge(\"tools\", \"llm_without_tools\")\n",
    "graph_builder.add_edge(\"llm_without_tools\",END)\n",
    "graph_builder.add_edge(START, \"llm_with_tools\")\n",
    "\n",
    "\n",
    "memory = MemorySaver()\n",
    "graph = graph_builder.compile(checkpointer=memory)\n",
    "\n",
    "Image(graph.get_graph().draw_mermaid_png())"
   ]
  },
  {
   "cell_type": "code",
   "execution_count": 151,
   "metadata": {},
   "outputs": [
    {
     "name": "stdout",
     "output_type": "stream",
     "text": [
      "================================\u001b[1m Human Message \u001b[0m=================================\n",
      "\n",
      "Hi there! My name is Will.\n",
      "==================================\u001b[1m Ai Message \u001b[0m==================================\n",
      "\n",
      "Hello Will! How can I assist you today?\n"
     ]
    }
   ],
   "source": [
    "config = {\"configurable\": {\"thread_id\": \"1\"}}\n",
    "user_input = \"Hi there! My name is Will.\"\n",
    "\n",
    "# The config is the **second positional argument** to stream() or invoke()!\n",
    "events = graph.stream(\n",
    "    {\"messages\": [(\"user\", user_input)]}, config, stream_mode=\"values\"\n",
    ")\n",
    "for event in events:\n",
    "    event[\"messages\"][-1].pretty_print()"
   ]
  },
  {
   "cell_type": "code",
   "execution_count": 152,
   "metadata": {},
   "outputs": [
    {
     "name": "stdout",
     "output_type": "stream",
     "text": [
      "================================\u001b[1m Human Message \u001b[0m=================================\n",
      "\n",
      "what is the Task Decomposition?\n",
      "==================================\u001b[1m Ai Message \u001b[0m==================================\n",
      "Tool Calls:\n",
      "  retrieve_tool (call_L30ubdPjNHWcOG1H9fBOPY9H)\n",
      " Call ID: call_L30ubdPjNHWcOG1H9fBOPY9H\n",
      "  Args:\n",
      "    query: Task Decomposition\n",
      "=================================\u001b[1m Tool Message \u001b[0m=================================\n",
      "Name: retrieve_tool\n",
      "\n",
      "Source: {'source': 'https://lilianweng.github.io/posts/2023-06-23-agent/'}\n",
      "Content: Fig. 1. Overview of a LLM-powered autonomous agent system.\n",
      "Component One: Planning#\n",
      "A complicated task usually involves many steps. An agent needs to know what they are and plan ahead.\n",
      "Task Decomposition#\n",
      "Chain of thought (CoT; Wei et al. 2022) has become a standard prompting technique for enhancing model performance on complex tasks. The model is instructed to “think step by step” to utilize more test-time computation to decompose hard tasks into smaller and simpler steps. CoT transforms big tasks into multiple manageable tasks and shed lights into an interpretation of the model’s thinking process.\n",
      "\n",
      "Source: {'source': 'https://lilianweng.github.io/posts/2023-06-23-agent/'}\n",
      "Content: Tree of Thoughts (Yao et al. 2023) extends CoT by exploring multiple reasoning possibilities at each step. It first decomposes the problem into multiple thought steps and generates multiple thoughts per step, creating a tree structure. The search process can be BFS (breadth-first search) or DFS (depth-first search) with each state evaluated by a classifier (via a prompt) or majority vote.\n",
      "Task decomposition can be done (1) by LLM with simple prompting like \"Steps for XYZ.\\n1.\", \"What are the subgoals for achieving XYZ?\", (2) by using task-specific instructions; e.g. \"Write a story outline.\" for writing a novel, or (3) with human inputs.\n",
      "\n",
      "Source: {'source': 'https://lilianweng.github.io/posts/2023-06-23-agent/'}\n",
      "Content: The AI assistant can parse user input to several tasks: [{\"task\": task, \"id\", task_id, \"dep\": dependency_task_ids, \"args\": {\"text\": text, \"image\": URL, \"audio\": URL, \"video\": URL}}]. The \"dep\" field denotes the id of the previous task which generates a new resource that the current task relies on. A special tag \"-task_id\" refers to the generated text image, audio and video in the dependency task with id as task_id. The task MUST be selected from the following options: {{ Available Task List }}. There is a logical relationship between tasks, please note their order. If the user input can't be parsed, you need to reply empty JSON. Here are several cases for your reference: {{ Demonstrations }}. The chat history is recorded as {{ Chat History }}. From this chat history, you can find the path of the user-mentioned resources for your task planning.\n",
      "==================================\u001b[1m Ai Message \u001b[0m==================================\n",
      "\n",
      "Task decomposition is a problem-solving technique where you break down a large, complex task into smaller, more manageable subtasks. \n",
      "\n",
      "Think of it like building a house: instead of trying to build the entire structure at once, you'd start with laying the foundation, then walls, then the roof, and so on. Each step is a smaller task that contributes to the overall goal of completing the house.\n",
      "\n",
      "**Here are some benefits of task decomposition:**\n",
      "\n",
      "* **Makes complex tasks less overwhelming:**  Breaking things down into smaller chunks makes them feel more achievable.\n",
      "* **Improves focus:** By concentrating on one subtask at a time, you can give it your full attention and avoid getting bogged down.\n",
      "* **Easier to plan and schedule:** You can allocate time and resources more effectively when you know exactly what needs to be done and in what order.\n",
      "* **Identifies dependencies:**  Decomposition helps reveal which tasks rely on others being completed first, allowing for better sequencing.\n",
      "* **Facilitates collaboration:** Smaller tasks are easier to assign to different individuals or teams, promoting efficient teamwork.\n",
      "\n",
      "\n",
      "Let me know if you'd like to explore any of these points further or have a specific task in mind that you'd like to decompose!\n"
     ]
    }
   ],
   "source": [
    "# The config is the **second positional argument** to stream() or invoke()!\n",
    "events = graph.stream(\n",
    "    {\"messages\": [(\"user\", \"what is the Task Decomposition?\" )]}, config, stream_mode=\"values\"\n",
    ")\n",
    "for event in events:\n",
    "    event[\"messages\"][-1].pretty_print()"
   ]
  },
  {
   "cell_type": "code",
   "execution_count": 153,
   "metadata": {},
   "outputs": [
    {
     "name": "stdout",
     "output_type": "stream",
     "text": [
      "================================\u001b[1m Human Message \u001b[0m=================================\n",
      "\n",
      "what is my name and my age?\n",
      "==================================\u001b[1m Ai Message \u001b[0m==================================\n",
      "Tool Calls:\n",
      "  retrieve_tool (call_zwiEKY7qzokcBXBSBl6jeCfC)\n",
      " Call ID: call_zwiEKY7qzokcBXBSBl6jeCfC\n",
      "  Args:\n",
      "    query: user name and age\n",
      "=================================\u001b[1m Tool Message \u001b[0m=================================\n",
      "Name: retrieve_tool\n",
      "\n",
      "Source: {'source': 'https://lilianweng.github.io/posts/2023-06-23-agent/'}\n",
      "Content: Conversatin samples:\n",
      "[\n",
      "  {\n",
      "    \"role\": \"system\",\n",
      "\n",
      "Source: {'source': 'https://lilianweng.github.io/posts/2023-06-23-agent/'}\n",
      "Content: Here are a sample conversation for task clarification sent to OpenAI ChatCompletion endpoint used by GPT-Engineer. The user inputs are wrapped in {{user input text}}.\n",
      "[\n",
      "  {\n",
      "    \"role\": \"system\",\n",
      "    \"content\": \"You will read instructions and not carry them out, only seek to clarify them.\\nSpecifically you will first summarise a list of super short bullets of areas that need clarification.\\nThen you will pick one clarifying question, and wait for an answer from the user.\\n\"\n",
      "  },\n",
      "  {\n",
      "    \"role\": \"user\",\n",
      "    \"content\": \"We are writing {{a Super Mario game in python. MVC components split in separate files. Keyboard control.}}\\n\"\n",
      "  },\n",
      "  {\n",
      "    \"role\": \"assistant\",\n",
      "\n",
      "Source: {'source': 'https://lilianweng.github.io/posts/2023-06-23-agent/'}\n",
      "Content: },\n",
      "  {\n",
      "    \"role\": \"user\",\n",
      "    \"content\": \"{{There are 10 levels in total. The main character is a plumber named Mario, who can walk and jump. It is a classical platform game just like Super Mario. The main character moves from left to right, trying to get to the destination, where there are many obstacles and attacks from enemies in the process.}}\\n\\nIs anything else unclear? If yes, only answer in the form:\\n{remaining unclear areas} remaining questions.\\n{Next question}\\nIf everything is sufficiently clear, only answer \\\"Nothing more to clarify.\\\".\"\n",
      "  },\n",
      "  {\n",
      "    \"role\": \"assistant\",\n",
      "    \"content\": \"Remaining unclear areas: 2 remaining questions.\\nCan you provide more information about how the MVC components are split into separate files?\"\n",
      "  },\n",
      "  {\n",
      "    \"role\": \"user\",\n",
      "    \"content\": \"{{Make your own assumptions and state them explicitly before starting}}\"\n",
      "  }\n",
      "]\n",
      "Then after these clarification, the agent moved into the code writing mode with a different system message.\n",
      "==================================\u001b[1m Ai Message \u001b[0m==================================\n",
      "\n",
      "As an AI, I have no access to your personal information, including your name or age.  \n",
      "\n",
      "To tell me your name and age, you can simply type them in! 😊\n"
     ]
    }
   ],
   "source": [
    "# The config is the **second positional argument** to stream() or invoke()!\n",
    "events = graph.stream(\n",
    "    {\"messages\": [(\"user\", \"what is my name and my age?\" )]}, config, stream_mode=\"values\"\n",
    ")\n",
    "for event in events:\n",
    "    event[\"messages\"][-1].pretty_print()"
   ]
  },
  {
   "cell_type": "markdown",
   "metadata": {},
   "source": [
    "### Gemma answer without the context "
   ]
  },
  {
   "cell_type": "code",
   "execution_count": 154,
   "metadata": {},
   "outputs": [
    {
     "data": {
      "text/markdown": [
       "Task decomposition is a technique used in artificial intelligence (AI) and software engineering to break down complex tasks into smaller, more manageable subtasks. \n",
       "\n",
       "Here's a breakdown:\n",
       "\n",
       "**Why decompose tasks?**\n",
       "\n",
       "* **Simplicity:**  Large tasks can be overwhelming. Breaking them down makes them easier to understand, plan, and execute.\n",
       "* **Modularity:** Subtasks can be developed and tested independently, allowing for parallel development and faster progress.\n",
       "* **Reusability:** Well-defined subtasks can be reused in different contexts or projects, saving time and effort.\n",
       "* **Scalability:**  Decomposition allows systems to handle increasingly complex tasks by adding more subtasks as needed.\n",
       "\n",
       "**How is it done?**\n",
       "\n",
       "There are various methods for decomposing tasks:\n",
       "\n",
       "* **Hierarchical Decomposition:** Breaking down a task into a tree-like structure with parent and child subtasks.\n",
       "* **Functional Decomposition:** Identifying the distinct functions required to complete the task and assigning each function to a separate subtask.\n",
       "* **Data Flow Decomposition:** Analyzing the flow of data through the task and defining subtasks based on data transformations or processing steps.\n",
       "\n",
       "**Example:**\n",
       "\n",
       "Imagine you want to build a system that recommends movies to users. \n",
       "\n",
       "* **Decomposition:** You could break this down into subtasks like:\n",
       "    * **Data Collection:** Gather user ratings, movie information, and genre data.\n",
       "    * **Data Preprocessing:** Clean and format the collected data.\n",
       "    * **Recommendation Algorithm:** Develop an algorithm to generate movie recommendations based on user preferences.\n",
       "    * **User Interface:** Create a user-friendly interface for displaying recommendations.\n",
       "\n",
       "Each subtask can then be further decomposed into smaller steps, making the overall project more manageable.\n",
       "\n",
       "\n",
       "**Tools and Techniques:**\n",
       "\n",
       "Various tools and techniques aid in task decomposition:\n",
       "\n",
       "* **UML Diagrams:**  Visualize the relationships between tasks and subtasks.\n",
       "* **Flowcharts:** Illustrate the sequential flow of operations within a task.\n",
       "* **Requirement Analysis:** Clearly define the goals and functionalities of each subtask.\n",
       "\n",
       "\n",
       "\n",
       "Let me know if you'd like to explore any specific aspect of task decomposition in more detail!"
      ],
      "text/plain": [
       "<IPython.core.display.Markdown object>"
      ]
     },
     "execution_count": 154,
     "metadata": {},
     "output_type": "execute_result"
    }
   ],
   "source": [
    "Markdown(gemma_llm.invoke(\"what is the Task Decomposition?\").content)\n"
   ]
  },
  {
   "cell_type": "markdown",
   "metadata": {},
   "source": [
    "### Gemma answer with the context"
   ]
  },
  {
   "cell_type": "code",
   "execution_count": 170,
   "metadata": {},
   "outputs": [
    {
     "data": {
      "text/markdown": [
       "Task decomposition is a problem-solving technique where you break down a large, complex task into smaller, more manageable subtasks. \n",
       "\n",
       "Think of it like building a house: instead of trying to build the entire structure at once, you'd start with laying the foundation, then walls, then the roof, and so on. Each step is a smaller task that contributes to the overall goal of completing the house.\n",
       "\n",
       "**Here are some benefits of task decomposition:**\n",
       "\n",
       "* **Makes complex tasks less overwhelming:**  Breaking things down into smaller chunks makes them feel more achievable.\n",
       "* **Improves focus:** By concentrating on one subtask at a time, you can give it your full attention and avoid getting bogged down.\n",
       "* **Easier to plan and schedule:** You can allocate time and resources more effectively when you know exactly what needs to be done and in what order.\n",
       "* **Identifies dependencies:**  Decomposition helps reveal which tasks rely on others being completed first, allowing for better sequencing.\n",
       "* **Facilitates collaboration:** Smaller tasks are easier to assign to different individuals or teams, promoting efficient teamwork.\n",
       "\n",
       "\n",
       "Let me know if you'd like to explore any of these points further or have a specific task in mind that you'd like to decompose!"
      ],
      "text/plain": [
       "<IPython.core.display.Markdown object>"
      ]
     },
     "execution_count": 170,
     "metadata": {},
     "output_type": "execute_result"
    }
   ],
   "source": [
    "history = graph.get_state(config).values[\"messages\"]\n",
    "Markdown(history[6].content)"
   ]
  },
  {
   "cell_type": "markdown",
   "metadata": {},
   "source": [
    "### Compare to GPT-4o-mini answer with the same context than Gemma"
   ]
  },
  {
   "cell_type": "code",
   "execution_count": 171,
   "metadata": {},
   "outputs": [
    {
     "data": {
      "text/plain": [
       "[SystemMessage(content='You are a helpful assistant. Answer the questions using the information retrieved', additional_kwargs={}, response_metadata={}, id='8f1fac5f-9d1e-4185-8d68-e7d463ff764d'),\n",
       " HumanMessage(content='Hi there! My name is Will.', additional_kwargs={}, response_metadata={}, id='4d622f42-7c20-437a-a787-0e5e8c915c5e'),\n",
       " AIMessage(content='Hello Will! How can I assist you today?', additional_kwargs={'refusal': None}, response_metadata={'token_usage': {'completion_tokens': 12, 'prompt_tokens': 71, 'total_tokens': 83, 'completion_tokens_details': {'accepted_prediction_tokens': 0, 'audio_tokens': 0, 'reasoning_tokens': 0, 'rejected_prediction_tokens': 0}, 'prompt_tokens_details': {'audio_tokens': 0, 'cached_tokens': 0}}, 'model_name': 'gpt-4o-mini-2024-07-18', 'system_fingerprint': 'fp_0aa8d3e20b', 'finish_reason': 'stop', 'logprobs': None}, id='run-3e86abee-ce9a-4d28-9f02-73d1f498912b-0', usage_metadata={'input_tokens': 71, 'output_tokens': 12, 'total_tokens': 83, 'input_token_details': {'audio': 0, 'cache_read': 0}, 'output_token_details': {'audio': 0, 'reasoning': 0}}),\n",
       " HumanMessage(content='what is the Task Decomposition?', additional_kwargs={}, response_metadata={}, id='b7877902-e037-4a99-83d9-989362799ca6'),\n",
       " AIMessage(content='', additional_kwargs={'tool_calls': [{'id': 'call_L30ubdPjNHWcOG1H9fBOPY9H', 'function': {'arguments': '{\"query\":\"Task Decomposition\"}', 'name': 'retrieve_tool'}, 'type': 'function'}], 'refusal': None}, response_metadata={'token_usage': {'completion_tokens': 17, 'prompt_tokens': 96, 'total_tokens': 113, 'completion_tokens_details': {'accepted_prediction_tokens': 0, 'audio_tokens': 0, 'reasoning_tokens': 0, 'rejected_prediction_tokens': 0}, 'prompt_tokens_details': {'audio_tokens': 0, 'cached_tokens': 0}}, 'model_name': 'gpt-4o-mini-2024-07-18', 'system_fingerprint': 'fp_d02d531b47', 'finish_reason': 'tool_calls', 'logprobs': None}, id='run-4f54cca8-76f7-4f13-a366-bca435a7eb73-0', tool_calls=[{'name': 'retrieve_tool', 'args': {'query': 'Task Decomposition'}, 'id': 'call_L30ubdPjNHWcOG1H9fBOPY9H', 'type': 'tool_call'}], usage_metadata={'input_tokens': 96, 'output_tokens': 17, 'total_tokens': 113, 'input_token_details': {'audio': 0, 'cache_read': 0}, 'output_token_details': {'audio': 0, 'reasoning': 0}}),\n",
       " ToolMessage(content='Source: {\\'source\\': \\'https://lilianweng.github.io/posts/2023-06-23-agent/\\'}\\nContent: Fig. 1. Overview of a LLM-powered autonomous agent system.\\nComponent One: Planning#\\nA complicated task usually involves many steps. An agent needs to know what they are and plan ahead.\\nTask Decomposition#\\nChain of thought (CoT; Wei et al. 2022) has become a standard prompting technique for enhancing model performance on complex tasks. The model is instructed to “think step by step” to utilize more test-time computation to decompose hard tasks into smaller and simpler steps. CoT transforms big tasks into multiple manageable tasks and shed lights into an interpretation of the model’s thinking process.\\n\\nSource: {\\'source\\': \\'https://lilianweng.github.io/posts/2023-06-23-agent/\\'}\\nContent: Tree of Thoughts (Yao et al. 2023) extends CoT by exploring multiple reasoning possibilities at each step. It first decomposes the problem into multiple thought steps and generates multiple thoughts per step, creating a tree structure. The search process can be BFS (breadth-first search) or DFS (depth-first search) with each state evaluated by a classifier (via a prompt) or majority vote.\\nTask decomposition can be done (1) by LLM with simple prompting like \"Steps for XYZ.\\\\n1.\", \"What are the subgoals for achieving XYZ?\", (2) by using task-specific instructions; e.g. \"Write a story outline.\" for writing a novel, or (3) with human inputs.\\n\\nSource: {\\'source\\': \\'https://lilianweng.github.io/posts/2023-06-23-agent/\\'}\\nContent: The AI assistant can parse user input to several tasks: [{\"task\": task, \"id\", task_id, \"dep\": dependency_task_ids, \"args\": {\"text\": text, \"image\": URL, \"audio\": URL, \"video\": URL}}]. The \"dep\" field denotes the id of the previous task which generates a new resource that the current task relies on. A special tag \"-task_id\" refers to the generated text image, audio and video in the dependency task with id as task_id. The task MUST be selected from the following options: {{ Available Task List }}. There is a logical relationship between tasks, please note their order. If the user input can\\'t be parsed, you need to reply empty JSON. Here are several cases for your reference: {{ Demonstrations }}. The chat history is recorded as {{ Chat History }}. From this chat history, you can find the path of the user-mentioned resources for your task planning.', name='retrieve_tool', id='a6c2be11-5c87-4df6-bb51-91b0bf0f424d', tool_call_id='call_L30ubdPjNHWcOG1H9fBOPY9H')]"
      ]
     },
     "execution_count": 171,
     "metadata": {},
     "output_type": "execute_result"
    }
   ],
   "source": [
    "\n",
    "history[:6]"
   ]
  },
  {
   "cell_type": "code",
   "execution_count": 172,
   "metadata": {},
   "outputs": [
    {
     "data": {
      "text/markdown": [
       "Task decomposition is a process used to break down complex tasks into smaller, more manageable steps. This technique is particularly useful in various fields, including artificial intelligence and project management. \n",
       "\n",
       "In the context of AI, particularly with large language models (LLMs), task decomposition can enhance performance on complex tasks by prompting the model to \"think step by step.\" This method, known as Chain of Thought (CoT), allows the model to transform a big task into multiple simpler tasks, making it easier to tackle each component systematically.\n",
       "\n",
       "There are several ways to perform task decomposition:\n",
       "\n",
       "1. **Simple Prompting**: Asking the model to outline the steps needed to achieve a goal (e.g., \"Steps for XYZ.\\n1.\") or to identify subgoals (e.g., \"What are the subgoals for achieving XYZ?\").\n",
       "   \n",
       "2. **Task-Specific Instructions**: Providing specific instructions tailored to the task at hand (e.g., \"Write a story outline.\" for writing a novel).\n",
       "\n",
       "3. **Human Inputs**: Involving human guidance to help break down the tasks.\n",
       "\n",
       "Additionally, more advanced methods like the Tree of Thoughts extend the CoT approach by exploring multiple reasoning possibilities at each step, creating a tree structure of thoughts that can be evaluated through various search processes.\n",
       "\n",
       "Overall, task decomposition is a valuable strategy for managing complexity and improving clarity in problem-solving."
      ],
      "text/plain": [
       "<IPython.core.display.Markdown object>"
      ]
     },
     "execution_count": 172,
     "metadata": {},
     "output_type": "execute_result"
    }
   ],
   "source": [
    "\n",
    "Markdown(gpt_llm.invoke(history[:6]).content)\n"
   ]
  },
  {
   "cell_type": "markdown",
   "metadata": {},
   "source": [
    "### Another fast test\n",
    "\n",
    "I am asking about the importance of task decomposition, but the message history contains relevant information. So, it's not necessary making another retrieval.\n"
   ]
  },
  {
   "cell_type": "code",
   "execution_count": 158,
   "metadata": {},
   "outputs": [
    {
     "name": "stdout",
     "output_type": "stream",
     "text": [
      "================================\u001b[1m Human Message \u001b[0m=================================\n",
      "\n",
      "So, you think that the Task Decomposition is no-important en AI\n",
      "==================================\u001b[1m Ai Message \u001b[0m==================================\n",
      "\n",
      "Task decomposition is actually very important in AI. It helps break down complex tasks into smaller, manageable parts, making it easier for the AI to understand and execute them effectively. This approach can lead to better organization, improved performance, and more accurate results. \n",
      "\n",
      "In many applications, including programming, project management, and problem-solving, decomposing tasks allows for clearer planning and execution. Would you like to know more about how task decomposition is applied in AI?\n"
     ]
    }
   ],
   "source": [
    "# The config is the **second positional argument** to stream() or invoke()!\n",
    "events = graph.stream(\n",
    "    {\"messages\": [(\"user\", \"So, you think that the Task Decomposition is no-important en AI\" )]}, config, stream_mode=\"values\"\n",
    ")\n",
    "for event in events:\n",
    "    event[\"messages\"][-1].pretty_print()"
   ]
  },
  {
   "cell_type": "markdown",
   "metadata": {},
   "source": [
    "### Another fast test\n",
    "\n",
    "Now, I am asking about chatbots, So It's necessary making another retrieval.\n"
   ]
  },
  {
   "cell_type": "code",
   "execution_count": 159,
   "metadata": {},
   "outputs": [
    {
     "name": "stdout",
     "output_type": "stream",
     "text": [
      "================================\u001b[1m Human Message \u001b[0m=================================\n",
      "\n",
      "What is the role of that in intelligent chatbots?\n",
      "==================================\u001b[1m Ai Message \u001b[0m==================================\n",
      "\n",
      "Task decomposition plays a crucial role in the functioning of intelligent chatbots in several ways:\n",
      "\n",
      "1. **Understanding User Intent**: By breaking down user queries into smaller components, chatbots can better understand the intent behind a user's message. This helps in accurately interpreting what the user is asking for.\n",
      "\n",
      "2. **Managing Conversations**: Chatbots can decompose conversations into distinct topics or tasks, allowing them to manage multi-turn dialogues more effectively. This ensures that the chatbot can keep track of the context and flow of the conversation.\n",
      "\n",
      "3. **Response Generation**: When generating responses, chatbots can decompose the information needed into smaller parts, allowing them to construct more relevant and coherent replies based on the user's input.\n",
      "\n",
      "4. **Error Handling**: If a chatbot encounters an issue or misunderstanding, task decomposition allows it to isolate the problem and address it without losing track of the overall conversation.\n",
      "\n",
      "5. **Personalization**: By breaking down user preferences and past interactions, chatbots can tailor their responses and suggestions to better meet individual user needs.\n",
      "\n",
      "6. **Task Automation**: For chatbots designed to perform specific tasks (like booking appointments or providing customer support), task decomposition allows them to follow a structured process, ensuring that all necessary steps are completed efficiently.\n",
      "\n",
      "Overall, task decomposition enhances the effectiveness, efficiency, and user experience of intelligent chatbots. Would you like to explore specific examples or applications of this concept in chatbots?\n"
     ]
    }
   ],
   "source": [
    "# The config is the **second positional argument** to stream() or invoke()!\n",
    "events = graph.stream(\n",
    "    {\"messages\": [(\"user\", \"What is the role of that in intelligent chatbots?\" )]}, config, stream_mode=\"values\"\n",
    ")\n",
    "for event in events:\n",
    "    event[\"messages\"][-1].pretty_print()"
   ]
  },
  {
   "cell_type": "code",
   "execution_count": 160,
   "metadata": {},
   "outputs": [
    {
     "name": "stdout",
     "output_type": "stream",
     "text": [
      "================================\u001b[1m Human Message \u001b[0m=================================\n",
      "\n",
      "What is an intelligent chatbots?\n",
      "==================================\u001b[1m Ai Message \u001b[0m==================================\n",
      "\n",
      "Intelligent chatbots are advanced software applications designed to simulate human-like conversations with users through text or voice interactions. They leverage artificial intelligence (AI), natural language processing (NLP), and machine learning to understand, interpret, and respond to user queries in a way that feels natural and engaging. Here are some key characteristics of intelligent chatbots:\n",
      "\n",
      "1. **Natural Language Understanding (NLU)**: They can comprehend and process human language, allowing them to understand user intents and extract relevant information from queries.\n",
      "\n",
      "2. **Context Awareness**: Intelligent chatbots can maintain context over multiple interactions, enabling them to provide more relevant responses based on previous exchanges.\n",
      "\n",
      "3. **Learning Capabilities**: Many intelligent chatbots use machine learning algorithms to improve their performance over time. They can learn from user interactions and adapt their responses accordingly.\n",
      "\n",
      "4. **Multi-turn Conversations**: They can handle complex dialogues that involve multiple exchanges, allowing for more in-depth interactions with users.\n",
      "\n",
      "5. **Task Automation**: Intelligent chatbots can perform specific tasks, such as booking appointments, answering FAQs, providing customer support, or even making recommendations based on user preferences.\n",
      "\n",
      "6. **Personalization**: They can tailor interactions based on user data, preferences, and past behavior, creating a more personalized experience.\n",
      "\n",
      "7. **Integration with Systems**: Intelligent chatbots can integrate with various platforms and services, such as CRM systems, databases, and APIs, to provide users with real-time information and support.\n",
      "\n",
      "Examples of intelligent chatbots include virtual assistants like Siri, Google Assistant, and customer service bots used by companies to handle inquiries and support requests. They are increasingly used in various industries, including e-commerce, healthcare, finance, and entertainment, to enhance user engagement and streamline operations. Would you like to know more about a specific type of intelligent chatbot or its applications?\n"
     ]
    }
   ],
   "source": [
    "# The config is the **second positional argument** to stream() or invoke()!\n",
    "events = graph.stream(\n",
    "    {\"messages\": [(\"user\", \"What is an intelligent chatbots?\" )]}, config, stream_mode=\"values\"\n",
    ")\n",
    "for event in events:\n",
    "    event[\"messages\"][-1].pretty_print()"
   ]
  },
  {
   "cell_type": "code",
   "execution_count": 161,
   "metadata": {},
   "outputs": [
    {
     "name": "stdout",
     "output_type": "stream",
     "text": [
      "================================\u001b[1m Human Message \u001b[0m=================================\n",
      "\n",
      "What is the utility of agents for LLM?\n",
      "==================================\u001b[1m Ai Message \u001b[0m==================================\n",
      "Tool Calls:\n",
      "  retrieve_tool (call_Mp01YuOEjyDHL3Et7hMO1IPB)\n",
      " Call ID: call_Mp01YuOEjyDHL3Et7hMO1IPB\n",
      "  Args:\n",
      "    query: utility of agents for LLM\n",
      "=================================\u001b[1m Tool Message \u001b[0m=================================\n",
      "Name: retrieve_tool\n",
      "\n",
      "Source: {'source': 'https://lilianweng.github.io/posts/2023-06-23-agent/'}\n",
      "Content: }\n",
      "]\n",
      "Challenges#\n",
      "After going through key ideas and demos of building LLM-centered agents, I start to see a couple common limitations:\n",
      "\n",
      "Source: {'source': 'https://lilianweng.github.io/posts/2023-06-23-agent/'}\n",
      "Content: LLM Powered Autonomous Agents\n",
      "    \n",
      "Date: June 23, 2023  |  Estimated Reading Time: 31 min  |  Author: Lilian Weng\n",
      "\n",
      "\n",
      "Building agents with LLM (large language model) as its core controller is a cool concept. Several proof-of-concepts demos, such as AutoGPT, GPT-Engineer and BabyAGI, serve as inspiring examples. The potentiality of LLM extends beyond generating well-written copies, stories, essays and programs; it can be framed as a powerful general problem solver.\n",
      "Agent System Overview#\n",
      "In a LLM-powered autonomous agent system, LLM functions as the agent’s brain, complemented by several key components:\n",
      "\n",
      "Planning\n",
      "\n",
      "Subgoal and decomposition: The agent breaks down large tasks into smaller, manageable subgoals, enabling efficient handling of complex tasks.\n",
      "Reflection and refinement: The agent can do self-criticism and self-reflection over past actions, learn from mistakes and refine them for future steps, thereby improving the quality of final results.\n",
      "\n",
      "\n",
      "Memory\n",
      "\n",
      "Source: {'source': 'https://lilianweng.github.io/posts/2023-06-23-agent/'}\n",
      "Content: Reliability of natural language interface: Current agent system relies on natural language as an interface between LLMs and external components such as memory and tools. However, the reliability of model outputs is questionable, as LLMs may make formatting errors and occasionally exhibit rebellious behavior (e.g. refuse to follow an instruction). Consequently, much of the agent demo code focuses on parsing model output.\n",
      "\n",
      "\n",
      "Citation#\n",
      "Cited as:\n",
      "\n",
      "Weng, Lilian. (Jun 2023). “LLM-powered Autonomous Agents”. Lil’Log. https://lilianweng.github.io/posts/2023-06-23-agent/.\n",
      "==================================\u001b[1m Ai Message \u001b[0m==================================\n",
      "\n",
      "Agents bring immense utility to Large Language Models (LLMs) by bridging the gap between raw text generation and real-world action. \n",
      "\n",
      "Think of an LLM as a brilliant student who can read and understand vast amounts of information, but lacks the ability to apply that knowledge in the real world. An agent acts as the \"executor,\" enabling the LLM to:\n",
      "\n",
      "**1. Interact with the Environment:** Agents allow LLMs to go beyond text and interact with external systems and tools. This could involve:\n",
      "\n",
      "* **Accessing APIs:** Retrieving information from databases, weather services, or other online platforms.\n",
      "* **Controlling Software:** Executing commands in applications, automating tasks, or manipulating digital objects.\n",
      "* **Physical Interaction (in the future):** Potentially controlling robots or physical devices to perform actions in the real world.\n",
      "\n",
      "**2. Learn Through Experience:** Agents can collect feedback from their interactions with the environment and use it to refine the LLM's behavior. This enables:\n",
      "\n",
      "* **Reinforcement Learning:** The agent learns by trial and error, receiving rewards for successful actions and penalties for failures.\n",
      "* **Adaptive Behavior:** Agents can adjust their strategies based on past experiences, becoming more effective over time.\n",
      "\n",
      "**3. Achieve Goals:** By defining specific goals, agents can guide the LLM towards desired outcomes. This allows for:\n",
      "\n",
      "* **Task Completion:** Agents can break down complex tasks into smaller steps and execute them sequentially.\n",
      "* **Problem Solving:** Agents can use their knowledge and environment interaction capabilities to find solutions to problems.\n",
      "* **Personalized Experiences:** Agents can tailor interactions and actions based on individual user preferences or goals.\n",
      "\n",
      "**Examples:**\n",
      "\n",
      "* An LLM combined with an agent could help you plan a trip by searching for flights, hotels, and activities, booking them automatically, and providing real-time updates.\n",
      "* A customer service agent powered by an LLM could understand complex queries, access relevant information from databases, and provide personalized solutions.\n",
      "* In the future, agents could enable LLMs to control robots in warehouses, automate manufacturing processes, or even assist with medical diagnoses.\n",
      "\n",
      "\n",
      "In essence, agents empower LLMs to move beyond theoretical understanding and become practical tools capable of making a real difference in the world.\n"
     ]
    }
   ],
   "source": [
    "# The config is the **second positional argument** to stream() or invoke()!\n",
    "events = graph.stream(\n",
    "    {\"messages\": [(\"user\", \"What is the utility of agents for LLM?\" )]}, config, stream_mode=\"values\"\n",
    ")\n",
    "for event in events:\n",
    "    event[\"messages\"][-1].pretty_print()"
   ]
  },
  {
   "cell_type": "code",
   "execution_count": null,
   "metadata": {},
   "outputs": [
    {
     "name": "stdout",
     "output_type": "stream",
     "text": [
      "================================\u001b[1m Human Message \u001b[0m=================================\n",
      "\n",
      "can you tell me about the Tools Use?\n",
      "==================================\u001b[1m Ai Message \u001b[0m==================================\n",
      "Tool Calls:\n",
      "  retrieve_tool (call_HMF75yOk8G8iZ5RWRz80Qg3h)\n",
      " Call ID: call_HMF75yOk8G8iZ5RWRz80Qg3h\n",
      "  Args:\n",
      "    query: Tools Use in LLM agents\n",
      "=================================\u001b[1m Tool Message \u001b[0m=================================\n",
      "Name: retrieve_tool\n",
      "\n",
      "Source: {'source': 'https://lilianweng.github.io/posts/2023-06-23-agent/'}\n",
      "Content: }\n",
      "]\n",
      "Challenges#\n",
      "After going through key ideas and demos of building LLM-centered agents, I start to see a couple common limitations:\n",
      "\n",
      "Source: {'source': 'https://lilianweng.github.io/posts/2023-06-23-agent/'}\n",
      "Content: LLM Powered Autonomous Agents\n",
      "    \n",
      "Date: June 23, 2023  |  Estimated Reading Time: 31 min  |  Author: Lilian Weng\n",
      "\n",
      "\n",
      "Building agents with LLM (large language model) as its core controller is a cool concept. Several proof-of-concepts demos, such as AutoGPT, GPT-Engineer and BabyAGI, serve as inspiring examples. The potentiality of LLM extends beyond generating well-written copies, stories, essays and programs; it can be framed as a powerful general problem solver.\n",
      "Agent System Overview#\n",
      "In a LLM-powered autonomous agent system, LLM functions as the agent’s brain, complemented by several key components:\n",
      "\n",
      "Planning\n",
      "\n",
      "Subgoal and decomposition: The agent breaks down large tasks into smaller, manageable subgoals, enabling efficient handling of complex tasks.\n",
      "Reflection and refinement: The agent can do self-criticism and self-reflection over past actions, learn from mistakes and refine them for future steps, thereby improving the quality of final results.\n",
      "\n",
      "\n",
      "Memory\n",
      "\n",
      "Source: {'source': 'https://lilianweng.github.io/posts/2023-06-23-agent/'}\n",
      "Content: (2) Model selection: LLM distributes the tasks to expert models, where the request is framed as a multiple-choice question. LLM is presented with a list of models to choose from. Due to the limited context length, task type based filtration is needed.\n",
      "Instruction:\n",
      "\n",
      "Given the user request and the call command, the AI assistant helps the user to select a suitable model from a list of models to process the user request. The AI assistant merely outputs the model id of the most appropriate model. The output must be in a strict JSON format: \"id\": \"id\", \"reason\": \"your detail reason for the choice\". We have a list of models for you to choose from {{ Candidate Models }}. Please select one model from the list.\n",
      "\n",
      "(3) Task execution: Expert models execute on the specific tasks and log results.\n",
      "Instruction:\n",
      "==================================\u001b[1m Ai Message \u001b[0m==================================\n",
      "\n",
      "Please provide me with more context! \n",
      "\n",
      "\"Tools Use\" is very broad. To tell you about tools, I need to know:\n",
      "\n",
      "* **What kind of tools are you interested in?**  \n",
      "    * Hand tools? Power tools? Software tools? \n",
      "    * Tools for a specific profession (like carpentry or cooking)?\n",
      "    * Tools used in a particular activity (like gardening or gaming)?\n",
      "* **What do you want to know about them?**\n",
      "    * How they work? \n",
      "    * Their history? \n",
      "    * Different types available? \n",
      "    * Safety precautions?\n",
      "\n",
      "The more specific you are, the better I can help! 😊\n"
     ]
    }
   ],
   "source": [
    "# The config is the **second positional argument** to stream() or invoke()!\n",
    "events = graph.stream(\n",
    "    {\"messages\": [(\"user\", \"can you tell me about the Tools Use Tools Use in LLM agents?\" )]}, config, stream_mode=\"values\"\n",
    ")\n",
    "for event in events:\n",
    "    event[\"messages\"][-1].pretty_print()"
   ]
  },
  {
   "cell_type": "code",
   "execution_count": null,
   "metadata": {},
   "outputs": [],
   "source": []
  }
 ],
 "metadata": {
  "kernelspec": {
   "display_name": "langchain_env",
   "language": "python",
   "name": "python3"
  },
  "language_info": {
   "codemirror_mode": {
    "name": "ipython",
    "version": 3
   },
   "file_extension": ".py",
   "mimetype": "text/x-python",
   "name": "python",
   "nbconvert_exporter": "python",
   "pygments_lexer": "ipython3",
   "version": "3.12.8"
  }
 },
 "nbformat": 4,
 "nbformat_minor": 2
}
